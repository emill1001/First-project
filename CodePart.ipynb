{
 "cells": [
  {
   "cell_type": "code",
   "execution_count": 1,
   "id": "62675513-c6fe-4d5b-aefd-eafe44168303",
   "metadata": {},
   "outputs": [],
   "source": [
    "import pandas as pd\n",
    "import numpy as np"
   ]
  },
  {
   "cell_type": "code",
   "execution_count": 3,
   "id": "4459a623-f06e-440f-af8f-8e03accc3239",
   "metadata": {},
   "outputs": [
    {
     "data": {
      "text/html": [
       "<div>\n",
       "<style scoped>\n",
       "    .dataframe tbody tr th:only-of-type {\n",
       "        vertical-align: middle;\n",
       "    }\n",
       "\n",
       "    .dataframe tbody tr th {\n",
       "        vertical-align: top;\n",
       "    }\n",
       "\n",
       "    .dataframe thead th {\n",
       "        text-align: right;\n",
       "    }\n",
       "</style>\n",
       "<table border=\"1\" class=\"dataframe\">\n",
       "  <thead>\n",
       "    <tr style=\"text-align: right;\">\n",
       "      <th></th>\n",
       "      <th>Mövzu</th>\n",
       "      <th>2020</th>\n",
       "      <th>2021</th>\n",
       "      <th>2022</th>\n",
       "      <th>2023</th>\n",
       "      <th>2024</th>\n",
       "    </tr>\n",
       "  </thead>\n",
       "  <tbody>\n",
       "    <tr>\n",
       "      <th>0</th>\n",
       "      <td>Xərclər-cəmi (faiz)</td>\n",
       "      <td>100.0</td>\n",
       "      <td>100.0</td>\n",
       "      <td>100.0</td>\n",
       "      <td>100.0</td>\n",
       "      <td>100.0</td>\n",
       "    </tr>\n",
       "    <tr>\n",
       "      <th>1</th>\n",
       "      <td>Ümumi dövlət xidmətləri (faiz)</td>\n",
       "      <td>13.4</td>\n",
       "      <td>14.5</td>\n",
       "      <td>12.8</td>\n",
       "      <td>10.3</td>\n",
       "      <td>10.9</td>\n",
       "    </tr>\n",
       "    <tr>\n",
       "      <th>2</th>\n",
       "      <td>Müdafiə və milli təhlükəsizlik (faiz)</td>\n",
       "      <td>14.2</td>\n",
       "      <td>16.6</td>\n",
       "      <td>15.3</td>\n",
       "      <td>16.1</td>\n",
       "      <td>17.4</td>\n",
       "    </tr>\n",
       "    <tr>\n",
       "      <th>3</th>\n",
       "      <td>Məhkəmə hakimiyyəti, hüquq-mühafizə və prokuro...</td>\n",
       "      <td>6.9</td>\n",
       "      <td>7.4</td>\n",
       "      <td>7.4</td>\n",
       "      <td>7.3</td>\n",
       "      <td>7.5</td>\n",
       "    </tr>\n",
       "    <tr>\n",
       "      <th>4</th>\n",
       "      <td>Təhsil (faiz)</td>\n",
       "      <td>10.5</td>\n",
       "      <td>11.3</td>\n",
       "      <td>11.5</td>\n",
       "      <td>11.3</td>\n",
       "      <td>11.6</td>\n",
       "    </tr>\n",
       "  </tbody>\n",
       "</table>\n",
       "</div>"
      ],
      "text/plain": [
       "                                               Mövzu   2020   2021   2022  \\\n",
       "0                                Xərclər-cəmi (faiz)  100.0  100.0  100.0   \n",
       "1                     Ümumi dövlət xidmətləri (faiz)   13.4   14.5   12.8   \n",
       "2              Müdafiə və milli təhlükəsizlik (faiz)   14.2   16.6   15.3   \n",
       "3  Məhkəmə hakimiyyəti, hüquq-mühafizə və prokuro...    6.9    7.4    7.4   \n",
       "4                                      Təhsil (faiz)   10.5   11.3   11.5   \n",
       "\n",
       "    2023   2024  \n",
       "0  100.0  100.0  \n",
       "1   10.3   10.9  \n",
       "2   16.1   17.4  \n",
       "3    7.3    7.5  \n",
       "4   11.3   11.6  "
      ]
     },
     "execution_count": 3,
     "metadata": {},
     "output_type": "execute_result"
    }
   ],
   "source": [
    "df = pd.read_csv(\"dovlt_budcsi._xrclr__xususi_ckisi__20250410120531.csv\")\n",
    "df.head()"
   ]
  },
  {
   "cell_type": "code",
   "execution_count": 4,
   "id": "fc26df8c-7681-4d89-b226-eeae6ff3223f",
   "metadata": {},
   "outputs": [
    {
     "name": "stdout",
     "output_type": "stream",
     "text": [
      "<class 'pandas.core.frame.DataFrame'>\n",
      "RangeIndex: 13 entries, 0 to 12\n",
      "Data columns (total 6 columns):\n",
      " #   Column  Non-Null Count  Dtype  \n",
      "---  ------  --------------  -----  \n",
      " 0   Mövzu   13 non-null     object \n",
      " 1   2020    13 non-null     float64\n",
      " 2   2021    13 non-null     float64\n",
      " 3   2022    13 non-null     float64\n",
      " 4   2023    13 non-null     float64\n",
      " 5   2024    13 non-null     float64\n",
      "dtypes: float64(5), object(1)\n",
      "memory usage: 756.0+ bytes\n"
     ]
    }
   ],
   "source": [
    "df.info()"
   ]
  },
  {
   "cell_type": "code",
   "execution_count": null,
   "id": "92bcb1da-3e6b-4a7b-ad1e-dbda8a59bfb2",
   "metadata": {},
   "outputs": [],
   "source": []
  }
 ],
 "metadata": {
  "kernelspec": {
   "display_name": "Python 3 (ipykernel)",
   "language": "python",
   "name": "python3"
  },
  "language_info": {
   "codemirror_mode": {
    "name": "ipython",
    "version": 3
   },
   "file_extension": ".py",
   "mimetype": "text/x-python",
   "name": "python",
   "nbconvert_exporter": "python",
   "pygments_lexer": "ipython3",
   "version": "3.12.3"
  }
 },
 "nbformat": 4,
 "nbformat_minor": 5
}
